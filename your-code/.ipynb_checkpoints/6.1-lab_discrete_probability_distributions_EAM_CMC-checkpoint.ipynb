{
 "cells": [
  {
   "cell_type": "markdown",
   "metadata": {},
   "source": [
    "# Before your start:\n",
    "\n",
    "    Read the README.md file\n",
    "    Comment as much as you can and use the resources (README.md file)\n",
    "    Happy learning!\n",
    "\n",
    "*Notes:* \n",
    "\n",
    "- Solve the questions with python.\n",
    "\n",
    "- Round the final answer to three decimal places."
   ]
  },
  {
   "cell_type": "markdown",
   "metadata": {},
   "source": [
    "## Bernoulli's Distribution\n",
    "\n",
    "In a basket containing 100 fruits, there are 60 apples and 40 oranges. \n",
    "\n",
    "A fruit is picked randomly from the basket. \n",
    "\n",
    "1. **What is the probability that the fruit is apple?**\n",
    "1. **What is the probability that it is an orange?**"
   ]
  },
  {
   "cell_type": "code",
   "execution_count": 9,
   "metadata": {},
   "outputs": [
    {
     "data": {
      "text/plain": [
       "'\\nCalculate:\\np = probability that the fruit is an apple \\nq = probability that the fruit is an orange\\n'"
      ]
     },
     "execution_count": 9,
     "metadata": {},
     "output_type": "execute_result"
    }
   ],
   "source": [
    "\"\"\"\n",
    "Calculate:\n",
    "p = probability that the fruit is an apple \n",
    "q = probability that the fruit is an orange\n",
    "\"\"\"\n",
    "\n",
    "# your code here"
   ]
  },
  {
   "cell_type": "code",
   "execution_count": 2,
   "metadata": {},
   "outputs": [
    {
     "name": "stdout",
     "output_type": "stream",
     "text": [
      "Probability of picking an apple: 0.60\n",
      "Probability of picking an orange: 0.40\n"
     ]
    }
   ],
   "source": [
    "# Given data\n",
    "total_fruits = 100\n",
    "apples = 60\n",
    "oranges = 40\n",
    "\n",
    "# Probability of picking an apple\n",
    "prob_apple = apples / total_fruits\n",
    "\n",
    "# Probability of picking an orange\n",
    "prob_orange = oranges / total_fruits\n",
    "\n",
    "# Display the results\n",
    "print(\"Probability of picking an apple: {:.2f}\".format(prob_apple))\n",
    "print(\"Probability of picking an orange: {:.2f}\".format(prob_orange))\n"
   ]
  },
  {
   "cell_type": "markdown",
   "metadata": {},
   "source": [
    "Now we take a random sample of 20 fruits from the basket. After each fruit is taken, a new fruit of the same type is replaced in the basket. Therefore, every time we are taking 1 fruit from 100 fruits. \n",
    "\n",
    "1. **What is the probability that the first 5 fruits are all apples?**\n",
    "\n",
    "1. **What is the probability that the first 5 fruits are all apples and the next 15 fruits are all oranges?**\n",
    "\n",
    "You can include the `p` and `q` probabilities you previous calculated in your solution."
   ]
  },
  {
   "cell_type": "code",
   "execution_count": 3,
   "metadata": {},
   "outputs": [
    {
     "name": "stdout",
     "output_type": "stream",
     "text": [
      "Probability of the first 5 fruits being all apples: 0.077760\n",
      "Probability of the first 5 fruits being all apples and the next 15 being all oranges: 0.0000000835\n"
     ]
    }
   ],
   "source": [
    "# your code here\n",
    "\n",
    "# Given probabilities\n",
    "prob_apple = 0.6\n",
    "prob_orange = 0.4\n",
    "\n",
    "# Number of trials\n",
    "n_5_apples = 5\n",
    "n_15_oranges = 15\n",
    "\n",
    "# Probability that the first 5 fruits are all apples\n",
    "prob_5_apples = prob_apple ** n_5_apples\n",
    "\n",
    "# Probability that the first 5 fruits are all apples and the next 15 fruits are all oranges\n",
    "prob_5_apples_15_oranges = prob_5_apples * (prob_orange ** n_15_oranges)\n",
    "\n",
    "# Display the results\n",
    "print(\"Probability of the first 5 fruits being all apples: {:.6f}\".format(prob_5_apples))\n",
    "print(\"Probability of the first 5 fruits being all apples and the next 15 being all oranges: {:.10f}\".format(prob_5_apples_15_oranges))\n"
   ]
  },
  {
   "cell_type": "markdown",
   "metadata": {},
   "source": [
    "## Binomial Distribution\n",
    "\n",
    "Similar to the above problem, this time again we randomly sample 20 fruits.\n",
    "\n",
    "**What is the probability that this time the sample contains 5 apples and 15 oranges?**\n",
    "\n",
    "Please note that this time the order of the fruits being picked does not matter."
   ]
  },
  {
   "cell_type": "code",
   "execution_count": 4,
   "metadata": {},
   "outputs": [
    {
     "name": "stdout",
     "output_type": "stream",
     "text": [
      "Probability of getting 5 apples and 15 oranges in the sample: 0.0012944935\n"
     ]
    }
   ],
   "source": [
    "# your code here\n",
    "\n",
    "from math import comb\n",
    "\n",
    "# Given probabilities\n",
    "prob_apple = 0.6\n",
    "prob_orange = 0.4\n",
    "\n",
    "# Number of trials\n",
    "n_trials = 20\n",
    "\n",
    "# Number of successful outcomes (apples)\n",
    "k_apples = 5\n",
    "\n",
    "# Calculate the binomial coefficient\n",
    "binomial_coefficient = comb(n_trials, k_apples)\n",
    "\n",
    "# Probability of getting 5 apples and 15 oranges\n",
    "prob_5_apples_15_oranges_binomial = binomial_coefficient * (prob_apple ** k_apples) * (prob_orange ** (n_trials - k_apples))\n",
    "\n",
    "# Display the result\n",
    "print(\"Probability of getting 5 apples and 15 oranges in the sample: {:.10f}\".format(prob_5_apples_15_oranges_binomial))\n"
   ]
  },
  {
   "cell_type": "markdown",
   "metadata": {},
   "source": [
    "In the lesson we also discussed CDF (cumulative distribution function). In the context of the above problem, **what is the probability that less than 5 fruits picked are apples?**\n",
    "\n",
    "Write the formula and calculate the probability below."
   ]
  },
  {
   "cell_type": "code",
   "execution_count": 5,
   "metadata": {},
   "outputs": [
    {
     "name": "stdout",
     "output_type": "stream",
     "text": [
      "Probability that less than 5 fruits picked are apples: 0.0003170311\n"
     ]
    }
   ],
   "source": [
    "# your code here\n",
    "\n",
    "from math import comb\n",
    "\n",
    "# Given probabilities\n",
    "prob_apple = 0.6\n",
    "prob_orange = 0.4\n",
    "\n",
    "# Number of trials\n",
    "n_trials = 20\n",
    "\n",
    "# Number of successful outcomes (apples)\n",
    "k_apples_less_than_5 = 4\n",
    "\n",
    "# Calculate the cumulative probability using the CDF formula\n",
    "cumulative_prob_less_than_5 = sum(comb(n_trials, i) * (prob_apple ** i) * (prob_orange ** (n_trials - i)) for i in range(k_apples_less_than_5 + 1))\n",
    "\n",
    "# Display the result\n",
    "print(\"Probability that less than 5 fruits picked are apples: {:.10f}\".format(cumulative_prob_less_than_5))\n"
   ]
  },
  {
   "cell_type": "markdown",
   "metadata": {},
   "source": [
    "**Plot the PDF (probability distributiom function) for the above binomial distribution.**\n",
    "\n",
    "*Hint: The range of x in a binomial distribution is from `0` to `n`.*"
   ]
  },
  {
   "cell_type": "code",
   "execution_count": 6,
   "metadata": {},
   "outputs": [
    {
     "data": {
      "image/png": "[encoded data removed]",
      "text/plain": [
       "<Figure size 640x480 with 1 Axes>"
      ]
     },
     "metadata": {},
     "output_type": "display_data"
    }
   ],
   "source": [
    "# your code here\n",
    "# Please label the axes and give a title to the plot \n",
    "\n",
    "import matplotlib.pyplot as plt\n",
    "from math import comb\n",
    "\n",
    "# Given probabilities\n",
    "prob_apple = 0.6\n",
    "prob_orange = 0.4\n",
    "\n",
    "# Number of trials\n",
    "n_trials = 20\n",
    "\n",
    "# Generate x values (number of successful outcomes)\n",
    "x_values = list(range(n_trials + 1))\n",
    "\n",
    "# Calculate the probabilities for each x using the binomial distribution PMF formula\n",
    "probabilities = [comb(n_trials, k) * (prob_apple ** k) * (prob_orange ** (n_trials - k)) for k in x_values]\n",
    "\n",
    "# Plot the PDF\n",
    "plt.bar(x_values, probabilities, color='blue', alpha=0.7)\n",
    "plt.title('Binomial Distribution PDF')\n",
    "plt.xlabel('Number of Apples')\n",
    "plt.ylabel('Probability')\n",
    "plt.xticks(x_values)\n",
    "plt.show()\n"
   ]
  },
  {
   "cell_type": "markdown",
   "metadata": {},
   "source": [
    "## Poisson Distribution\n",
    "\n",
    "In this challenge you are required to use the Math library in python to solve the problems.\n",
    "\n",
    "In the UEFA champions league tournament, the average number of goals scored in a match is 2.3. \n",
    "\n",
    "**What is the probability that the number of goals scored in a match is 5?**\n",
    "\n",
    "*Hint: Use the exp() in the math library*\n",
    "\n",
    "And to calculate the factorial, you can use the following code:\n",
    "\n",
    "```python\n",
    "import math\n",
    "math.factorial(n) # n is the number you want to find the factorial of\n",
    "```"
   ]
  },
  {
   "cell_type": "code",
   "execution_count": 7,
   "metadata": {},
   "outputs": [
    {
     "name": "stdout",
     "output_type": "stream",
     "text": [
      "Probability of scoring 5 goals: 0.053775\n"
     ]
    }
   ],
   "source": [
    "# your code here \n",
    "\n",
    "import math\n",
    "\n",
    "# Given average number of goals\n",
    "average_goals = 2.3\n",
    "\n",
    "# Number of goals you want to find the probability for\n",
    "k_goals = 5\n",
    "\n",
    "# Calculate the probability using the Poisson distribution formula\n",
    "probability_5_goals = (math.exp(-average_goals) * (average_goals ** k_goals)) / math.factorial(k_goals)\n",
    "\n",
    "# Display the result\n",
    "print(\"Probability of scoring 5 goals: {:.6f}\".format(probability_5_goals))\n"
   ]
  },
  {
   "cell_type": "markdown",
   "metadata": {},
   "source": [
    "**Draw a poisson probability distribution plot for the number of goals to be between 0 to 10.**"
   ]
  },
  {
   "cell_type": "code",
   "execution_count": 8,
   "metadata": {},
   "outputs": [
    {
     "data": {
      "image/png": "[encoded data removed]",
      "text/plain": [
       "<Figure size 640x480 with 1 Axes>"
      ]
     },
     "metadata": {},
     "output_type": "display_data"
    }
   ],
   "source": [
    "# your code here\n",
    "# Please label the axes and give a title to the plot \n",
    "\n",
    "import math\n",
    "import matplotlib.pyplot as plt\n",
    "\n",
    "# Given average number of goals\n",
    "average_goals = 2.3\n",
    "\n",
    "# Generate x values (number of goals)\n",
    "x_values = list(range(11))  # Number of goals from 0 to 10\n",
    "\n",
    "# Calculate the probabilities for each x using the Poisson distribution formula\n",
    "probabilities = [(math.exp(-average_goals) * (average_goals ** k)) / math.factorial(k) for k in x_values]\n",
    "\n",
    "# Plot the Poisson probability distribution\n",
    "plt.bar(x_values, probabilities, color='green', alpha=0.7)\n",
    "plt.title('Poisson Probability Distribution for Number of Goals')\n",
    "plt.xlabel('Number of Goals')\n",
    "plt.ylabel('Probability')\n",
    "plt.xticks(x_values)\n",
    "plt.show()\n"
   ]
  },
  {
   "cell_type": "code",
   "execution_count": null,
   "metadata": {},
   "outputs": [],
   "source": []
  }
 ],
 "metadata": {
  "kernelspec": {
   "display_name": "clase",
   "language": "python",
   "name": "clase"
  },
  "language_info": {
   "codemirror_mode": {
    "name": "ipython",
    "version": 3
   },
   "file_extension": ".py",
   "mimetype": "text/x-python",
   "name": "python",
   "nbconvert_exporter": "python",
   "pygments_lexer": "ipython3",
   "version": "3.10.13"
  }
 },
 "nbformat": 4,
 "nbformat_minor": 2
}
